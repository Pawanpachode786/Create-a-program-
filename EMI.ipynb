{
 "cells": [
  {
   "cell_type": "code",
   "execution_count": 1,
   "id": "31feed7f",
   "metadata": {},
   "outputs": [
    {
     "name": "stdout",
     "output_type": "stream",
     "text": [
      "Enter principal amount: 100000\n",
      "Enter tenure (in years): 5\n",
      "Enter interest rate (% per annum): 20003\n",
      "EMI: $ 1668490.49\n"
     ]
    }
   ],
   "source": [
    "def calculate_emi(principal, tenure, interest_rate):\n",
    "    # Convert interest rate from percentage to decimal\n",
    "    interest_rate = interest_rate / 100 / 12\n",
    "\n",
    "    # Convert tenure from years to months\n",
    "    tenure = tenure * 12\n",
    "\n",
    "    # Calculate EMI\n",
    "    emi = (principal * interest_rate * (1 + interest_rate) * tenure) / ((1 + interest_rate) * tenure - 1)\n",
    "\n",
    "    return round(emi, 2)\n",
    "\n",
    "\n",
    "def print_emi():\n",
    "    # Get user input\n",
    "    principal = float(input(\"Enter principal amount: \"))\n",
    "    tenure = int(input(\"Enter tenure (in years): \"))\n",
    "    interest_rate = float(input(\"Enter interest rate (% per annum): \"))\n",
    "\n",
    "    # Calculate EMI\n",
    "    emi = calculate_emi(principal, tenure, interest_rate)\n",
    "\n",
    "    # Print the result\n",
    "    print(\"EMI: $\", emi)\n",
    "\n",
    "\n",
    "# Run the program\n",
    "print_emi()"
   ]
  },
  {
   "cell_type": "code",
   "execution_count": null,
   "id": "73a17b78",
   "metadata": {},
   "outputs": [],
   "source": []
  },
  {
   "cell_type": "code",
   "execution_count": null,
   "id": "51b3c053",
   "metadata": {},
   "outputs": [],
   "source": []
  }
 ],
 "metadata": {
  "kernelspec": {
   "display_name": "Python 3 (ipykernel)",
   "language": "python",
   "name": "python3"
  },
  "language_info": {
   "codemirror_mode": {
    "name": "ipython",
    "version": 3
   },
   "file_extension": ".py",
   "mimetype": "text/x-python",
   "name": "python",
   "nbconvert_exporter": "python",
   "pygments_lexer": "ipython3",
   "version": "3.9.13"
  }
 },
 "nbformat": 4,
 "nbformat_minor": 5
}
